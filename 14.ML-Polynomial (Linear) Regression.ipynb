{
 "cells": [
  {
   "cell_type": "markdown",
   "id": "081e6b78",
   "metadata": {},
   "source": [
    "### y=p+p1X1=ax+b Linear Regression一元线性回归参照第12节课\n",
    "\n",
    "###y=p+p1X1+p2X2+p3X3+...+pnXn Multiple Linear Regression多元线性回归参照第13节课\n",
    "\n",
    "###y=p+p1X1+p2X1(2)+p3X1(3)+...+pnX1(n) Polynomial Linear Regression多项式回归"
   ]
  },
  {
   "cell_type": "code",
   "execution_count": 4,
   "id": "08b9c313",
   "metadata": {},
   "outputs": [],
   "source": [
    "# Import necessary libraries \n",
    "#Scikit-learn框架中，回归模型的性能评估的分数(Score)，其实使用的就是『决定系数』\n",
    "import pandas as pd \n",
    "import numpy as np \n",
    "import matplotlib.pyplot as plt "
   ]
  },
  {
   "cell_type": "markdown",
   "id": "aa90da0a",
   "metadata": {},
   "source": [
    "### 决定系数即 R 平方值，反应因变量的全部变异能通过回归关系被自变量解释的比例。 如R平方为0.8，则表示回归关系可以解释因变量80%的变异。 换句话说，如果我们能控制自变量不变，则因变量的变异程度会减少 80%。"
   ]
  },
  {
   "cell_type": "code",
   "execution_count": 5,
   "id": "948aa4ec",
   "metadata": {},
   "outputs": [],
   "source": [
    "# Import the Height Weight Dataset \n",
    "data = pd.read_excel('Lesson14-age-height.xlsx') "
   ]
  },
  {
   "cell_type": "code",
   "execution_count": 9,
   "id": "75afa694",
   "metadata": {},
   "outputs": [
    {
     "data": {
      "text/html": [
       "<div>\n",
       "<style scoped>\n",
       "    .dataframe tbody tr th:only-of-type {\n",
       "        vertical-align: middle;\n",
       "    }\n",
       "\n",
       "    .dataframe tbody tr th {\n",
       "        vertical-align: top;\n",
       "    }\n",
       "\n",
       "    .dataframe thead th {\n",
       "        text-align: right;\n",
       "    }\n",
       "</style>\n",
       "<table border=\"1\" class=\"dataframe\">\n",
       "  <thead>\n",
       "    <tr style=\"text-align: right;\">\n",
       "      <th></th>\n",
       "      <th>Age</th>\n",
       "      <th>Height</th>\n",
       "    </tr>\n",
       "  </thead>\n",
       "  <tbody>\n",
       "    <tr>\n",
       "      <th>0</th>\n",
       "      <td>10</td>\n",
       "      <td>138</td>\n",
       "    </tr>\n",
       "    <tr>\n",
       "      <th>1</th>\n",
       "      <td>11</td>\n",
       "      <td>138</td>\n",
       "    </tr>\n",
       "    <tr>\n",
       "      <th>2</th>\n",
       "      <td>12</td>\n",
       "      <td>138</td>\n",
       "    </tr>\n",
       "    <tr>\n",
       "      <th>3</th>\n",
       "      <td>13</td>\n",
       "      <td>139</td>\n",
       "    </tr>\n",
       "    <tr>\n",
       "      <th>4</th>\n",
       "      <td>14</td>\n",
       "      <td>139</td>\n",
       "    </tr>\n",
       "    <tr>\n",
       "      <th>...</th>\n",
       "      <td>...</td>\n",
       "      <td>...</td>\n",
       "    </tr>\n",
       "    <tr>\n",
       "      <th>66</th>\n",
       "      <td>76</td>\n",
       "      <td>204</td>\n",
       "    </tr>\n",
       "    <tr>\n",
       "      <th>67</th>\n",
       "      <td>77</td>\n",
       "      <td>205</td>\n",
       "    </tr>\n",
       "    <tr>\n",
       "      <th>68</th>\n",
       "      <td>78</td>\n",
       "      <td>206</td>\n",
       "    </tr>\n",
       "    <tr>\n",
       "      <th>69</th>\n",
       "      <td>79</td>\n",
       "      <td>207</td>\n",
       "    </tr>\n",
       "    <tr>\n",
       "      <th>70</th>\n",
       "      <td>80</td>\n",
       "      <td>208</td>\n",
       "    </tr>\n",
       "  </tbody>\n",
       "</table>\n",
       "<p>71 rows × 2 columns</p>\n",
       "</div>"
      ],
      "text/plain": [
       "    Age  Height\n",
       "0    10     138\n",
       "1    11     138\n",
       "2    12     138\n",
       "3    13     139\n",
       "4    14     139\n",
       "..  ...     ...\n",
       "66   76     204\n",
       "67   77     205\n",
       "68   78     206\n",
       "69   79     207\n",
       "70   80     208\n",
       "\n",
       "[71 rows x 2 columns]"
      ]
     },
     "execution_count": 9,
     "metadata": {},
     "output_type": "execute_result"
    }
   ],
   "source": [
    "data"
   ]
  },
  {
   "cell_type": "code",
   "execution_count": 7,
   "id": "2415255b",
   "metadata": {},
   "outputs": [],
   "source": [
    "#Store the data in the form of dependent and independent variables separately\n",
    "X = data.iloc[:, 0:1].values \n",
    "y = data.iloc[:, 1].values"
   ]
  },
  {
   "cell_type": "code",
   "execution_count": 8,
   "id": "3eeaaef9",
   "metadata": {},
   "outputs": [
    {
     "data": {
      "text/plain": [
       "array([[10],\n",
       "       [11],\n",
       "       [12],\n",
       "       [13],\n",
       "       [14],\n",
       "       [15],\n",
       "       [16],\n",
       "       [17],\n",
       "       [18],\n",
       "       [19],\n",
       "       [20],\n",
       "       [21],\n",
       "       [22],\n",
       "       [23],\n",
       "       [24],\n",
       "       [25],\n",
       "       [26],\n",
       "       [27],\n",
       "       [28],\n",
       "       [29],\n",
       "       [30],\n",
       "       [31],\n",
       "       [32],\n",
       "       [33],\n",
       "       [34],\n",
       "       [35],\n",
       "       [36],\n",
       "       [37],\n",
       "       [38],\n",
       "       [39],\n",
       "       [40],\n",
       "       [41],\n",
       "       [42],\n",
       "       [43],\n",
       "       [44],\n",
       "       [45],\n",
       "       [46],\n",
       "       [47],\n",
       "       [48],\n",
       "       [49],\n",
       "       [50],\n",
       "       [51],\n",
       "       [52],\n",
       "       [53],\n",
       "       [54],\n",
       "       [55],\n",
       "       [56],\n",
       "       [57],\n",
       "       [58],\n",
       "       [59],\n",
       "       [60],\n",
       "       [61],\n",
       "       [62],\n",
       "       [63],\n",
       "       [64],\n",
       "       [65],\n",
       "       [66],\n",
       "       [67],\n",
       "       [68],\n",
       "       [69],\n",
       "       [70],\n",
       "       [71],\n",
       "       [72],\n",
       "       [73],\n",
       "       [74],\n",
       "       [75],\n",
       "       [76],\n",
       "       [77],\n",
       "       [78],\n",
       "       [79],\n",
       "       [80]], dtype=int64)"
      ]
     },
     "execution_count": 8,
     "metadata": {},
     "output_type": "execute_result"
    }
   ],
   "source": [
    "X"
   ]
  },
  {
   "cell_type": "code",
   "execution_count": 10,
   "id": "be220f71",
   "metadata": {},
   "outputs": [
    {
     "data": {
      "text/plain": [
       "array([138, 138, 138, 139, 139, 139, 140, 140, 140, 141, 141, 141, 142,\n",
       "       142, 142, 143, 143, 143, 144, 144, 145, 145, 146, 146, 147, 147,\n",
       "       148, 148, 149, 149, 150, 150, 151, 152, 153, 155, 156, 157, 158,\n",
       "       159, 160, 161, 162, 163, 164, 164, 165, 166, 167, 168, 169, 170,\n",
       "       171, 172, 173, 175, 178, 180, 183, 185, 188, 190, 193, 195, 199,\n",
       "       203, 204, 205, 206, 207, 208], dtype=int64)"
      ]
     },
     "execution_count": 10,
     "metadata": {},
     "output_type": "execute_result"
    }
   ],
   "source": [
    "y"
   ]
  },
  {
   "cell_type": "code",
   "execution_count": 15,
   "id": "e4f2ad1a",
   "metadata": {},
   "outputs": [],
   "source": [
    "X = data.iloc[:,0:-1].values "
   ]
  },
  {
   "cell_type": "code",
   "execution_count": 16,
   "id": "34622c3e",
   "metadata": {},
   "outputs": [
    {
     "data": {
      "text/plain": [
       "array([[10],\n",
       "       [11],\n",
       "       [12],\n",
       "       [13],\n",
       "       [14],\n",
       "       [15],\n",
       "       [16],\n",
       "       [17],\n",
       "       [18],\n",
       "       [19],\n",
       "       [20],\n",
       "       [21],\n",
       "       [22],\n",
       "       [23],\n",
       "       [24],\n",
       "       [25],\n",
       "       [26],\n",
       "       [27],\n",
       "       [28],\n",
       "       [29],\n",
       "       [30],\n",
       "       [31],\n",
       "       [32],\n",
       "       [33],\n",
       "       [34],\n",
       "       [35],\n",
       "       [36],\n",
       "       [37],\n",
       "       [38],\n",
       "       [39],\n",
       "       [40],\n",
       "       [41],\n",
       "       [42],\n",
       "       [43],\n",
       "       [44],\n",
       "       [45],\n",
       "       [46],\n",
       "       [47],\n",
       "       [48],\n",
       "       [49],\n",
       "       [50],\n",
       "       [51],\n",
       "       [52],\n",
       "       [53],\n",
       "       [54],\n",
       "       [55],\n",
       "       [56],\n",
       "       [57],\n",
       "       [58],\n",
       "       [59],\n",
       "       [60],\n",
       "       [61],\n",
       "       [62],\n",
       "       [63],\n",
       "       [64],\n",
       "       [65],\n",
       "       [66],\n",
       "       [67],\n",
       "       [68],\n",
       "       [69],\n",
       "       [70],\n",
       "       [71],\n",
       "       [72],\n",
       "       [73],\n",
       "       [74],\n",
       "       [75],\n",
       "       [76],\n",
       "       [77],\n",
       "       [78],\n",
       "       [79],\n",
       "       [80]], dtype=int64)"
      ]
     },
     "execution_count": 16,
     "metadata": {},
     "output_type": "execute_result"
    }
   ],
   "source": [
    "X "
   ]
  },
  {
   "cell_type": "code",
   "execution_count": 17,
   "id": "e04c9fc0",
   "metadata": {},
   "outputs": [
    {
     "data": {
      "text/plain": [
       "(71, 1)"
      ]
     },
     "execution_count": 17,
     "metadata": {},
     "output_type": "execute_result"
    }
   ],
   "source": [
    "X.shape"
   ]
  },
  {
   "cell_type": "code",
   "execution_count": 18,
   "id": "491513ec",
   "metadata": {},
   "outputs": [
    {
     "data": {
      "text/plain": [
       "array([[10],\n",
       "       [11],\n",
       "       [12],\n",
       "       [13],\n",
       "       [14],\n",
       "       [15],\n",
       "       [16],\n",
       "       [17],\n",
       "       [18],\n",
       "       [19],\n",
       "       [20],\n",
       "       [21],\n",
       "       [22],\n",
       "       [23],\n",
       "       [24],\n",
       "       [25],\n",
       "       [26],\n",
       "       [27],\n",
       "       [28],\n",
       "       [29],\n",
       "       [30],\n",
       "       [31],\n",
       "       [32],\n",
       "       [33],\n",
       "       [34],\n",
       "       [35],\n",
       "       [36],\n",
       "       [37],\n",
       "       [38],\n",
       "       [39],\n",
       "       [40],\n",
       "       [41],\n",
       "       [42],\n",
       "       [43],\n",
       "       [44],\n",
       "       [45],\n",
       "       [46],\n",
       "       [47],\n",
       "       [48],\n",
       "       [49],\n",
       "       [50],\n",
       "       [51],\n",
       "       [52],\n",
       "       [53],\n",
       "       [54],\n",
       "       [55],\n",
       "       [56],\n",
       "       [57],\n",
       "       [58],\n",
       "       [59],\n",
       "       [60],\n",
       "       [61],\n",
       "       [62],\n",
       "       [63],\n",
       "       [64],\n",
       "       [65],\n",
       "       [66],\n",
       "       [67],\n",
       "       [68],\n",
       "       [69],\n",
       "       [70],\n",
       "       [71],\n",
       "       [72],\n",
       "       [73],\n",
       "       [74],\n",
       "       [75],\n",
       "       [76],\n",
       "       [77],\n",
       "       [78],\n",
       "       [79],\n",
       "       [80]], dtype=int64)"
      ]
     },
     "execution_count": 18,
     "metadata": {},
     "output_type": "execute_result"
    }
   ],
   "source": [
    "X"
   ]
  },
  {
   "cell_type": "code",
   "execution_count": 19,
   "id": "c39415b1",
   "metadata": {},
   "outputs": [
    {
     "data": {
      "text/plain": [
       "(71,)"
      ]
     },
     "execution_count": 19,
     "metadata": {},
     "output_type": "execute_result"
    }
   ],
   "source": [
    "y.shape"
   ]
  },
  {
   "cell_type": "code",
   "execution_count": 20,
   "id": "ed5e2fda",
   "metadata": {},
   "outputs": [
    {
     "data": {
      "text/plain": [
       "array([138, 138, 138, 139, 139, 139, 140, 140, 140, 141, 141, 141, 142,\n",
       "       142, 142, 143, 143, 143, 144, 144, 145, 145, 146, 146, 147, 147,\n",
       "       148, 148, 149, 149, 150, 150, 151, 152, 153, 155, 156, 157, 158,\n",
       "       159, 160, 161, 162, 163, 164, 164, 165, 166, 167, 168, 169, 170,\n",
       "       171, 172, 173, 175, 178, 180, 183, 185, 188, 190, 193, 195, 199,\n",
       "       203, 204, 205, 206, 207, 208], dtype=int64)"
      ]
     },
     "execution_count": 20,
     "metadata": {},
     "output_type": "execute_result"
    }
   ],
   "source": [
    "y"
   ]
  },
  {
   "cell_type": "code",
   "execution_count": 21,
   "id": "e23ff1a5",
   "metadata": {},
   "outputs": [],
   "source": [
    "#Split the Dataset into Training and Test Dataset\n",
    "from sklearn.model_selection import train_test_split\n",
    "X_train, X_test, y_train, y_test = train_test_split(X, y, test_size=0.3, random_state=0)"
   ]
  },
  {
   "cell_type": "code",
   "execution_count": 22,
   "id": "a0966397",
   "metadata": {},
   "outputs": [
    {
     "data": {
      "text/plain": [
       "(49, 1)"
      ]
     },
     "execution_count": 22,
     "metadata": {},
     "output_type": "execute_result"
    }
   ],
   "source": [
    "X_train.shape"
   ]
  },
  {
   "cell_type": "code",
   "execution_count": 23,
   "id": "adc9c635",
   "metadata": {},
   "outputs": [
    {
     "data": {
      "text/plain": [
       "(49,)"
      ]
     },
     "execution_count": 23,
     "metadata": {},
     "output_type": "execute_result"
    }
   ],
   "source": [
    "y_train.shape"
   ]
  },
  {
   "cell_type": "code",
   "execution_count": 24,
   "id": "bae7a38a",
   "metadata": {},
   "outputs": [
    {
     "data": {
      "text/plain": [
       "LinearRegression()"
      ]
     },
     "execution_count": 24,
     "metadata": {},
     "output_type": "execute_result"
    }
   ],
   "source": [
    "#Fit the Simple Linear Regression Model\n",
    "from sklearn.linear_model import LinearRegression\n",
    "LinReg = LinearRegression()\n",
    "LinReg.fit(X_train, y_train)"
   ]
  },
  {
   "cell_type": "code",
   "execution_count": 27,
   "id": "e928dc1e",
   "metadata": {},
   "outputs": [
    {
     "data": {
      "text/plain": [
       "array([[36],\n",
       "       [37],\n",
       "       [58],\n",
       "       [32],\n",
       "       [40],\n",
       "       [61],\n",
       "       [17],\n",
       "       [69],\n",
       "       [44],\n",
       "       [80],\n",
       "       [66],\n",
       "       [38],\n",
       "       [41],\n",
       "       [52],\n",
       "       [43],\n",
       "       [65],\n",
       "       [79],\n",
       "       [72],\n",
       "       [53],\n",
       "       [14],\n",
       "       [75],\n",
       "       [60]], dtype=int64)"
      ]
     },
     "execution_count": 27,
     "metadata": {},
     "output_type": "execute_result"
    }
   ],
   "source": [
    "X_test"
   ]
  },
  {
   "cell_type": "code",
   "execution_count": 28,
   "id": "d34dada2",
   "metadata": {},
   "outputs": [
    {
     "data": {
      "text/plain": [
       "array([152.90005813, 153.8194466 , 173.1266044 , 149.22250426,\n",
       "       156.577612  , 175.8847698 , 135.43167726, 183.23987754,\n",
       "       160.25516587, 193.35315067, 180.48171214, 154.73883506,\n",
       "       157.49700047, 167.6102736 , 159.3357774 , 179.56232367,\n",
       "       192.43376221, 185.99804294, 168.52966207, 132.67351186,\n",
       "       188.75620834, 174.96538134])"
      ]
     },
     "execution_count": 28,
     "metadata": {},
     "output_type": "execute_result"
    }
   ],
   "source": [
    "LinReg.predict(X_test)"
   ]
  },
  {
   "cell_type": "code",
   "execution_count": 29,
   "id": "f6c27c7a",
   "metadata": {},
   "outputs": [
    {
     "data": {
      "text/plain": [
       "array([148, 148, 167, 146, 150, 170, 140, 185, 153, 208, 178, 149, 150,\n",
       "       162, 152, 175, 207, 193, 163, 139, 203, 169], dtype=int64)"
      ]
     },
     "execution_count": 29,
     "metadata": {},
     "output_type": "execute_result"
    }
   ],
   "source": [
    "y_test"
   ]
  },
  {
   "cell_type": "code",
   "execution_count": 30,
   "id": "909105a5",
   "metadata": {},
   "outputs": [],
   "source": [
    "from sklearn.metrics import r2_score\n",
    "score1=r2_score(y_test,LinReg.predict(X_test))"
   ]
  },
  {
   "cell_type": "code",
   "execution_count": 31,
   "id": "b60abd69",
   "metadata": {},
   "outputs": [
    {
     "data": {
      "text/plain": [
       "0.8727873738671587"
      ]
     },
     "execution_count": 31,
     "metadata": {},
     "output_type": "execute_result"
    }
   ],
   "source": [
    "score1"
   ]
  },
  {
   "cell_type": "markdown",
   "id": "4983e093",
   "metadata": {},
   "source": [
    "### R2_score = 1，样本中预测值和真实值完全相等，没有任何误差，表示回归分析中自变量对因变量的解释越好。\n",
    "\n",
    "R2_score = 0。此时分子等于分母，样本的每项预测值都等于均值。"
   ]
  },
  {
   "cell_type": "markdown",
   "id": "5b301b7d",
   "metadata": {},
   "source": [
    "### 数据集的样本越大，R²越大，因此，不同数据集的模型结果比较会有一定的误差，此时可以使用Adjusted R-Square (校正决定系数）,能对添加的非显著变量给出惩罚"
   ]
  },
  {
   "cell_type": "code",
   "execution_count": 34,
   "id": "6e77cba0",
   "metadata": {},
   "outputs": [
    {
     "data": {
      "image/png": "[encoded data removed]",
      "text/plain": [
       "<Figure size 640x480 with 1 Axes>"
      ]
     },
     "metadata": {},
     "output_type": "display_data"
    }
   ],
   "source": [
    "# Visualise the Linear Regression Result\n",
    "plt.scatter(X_train, y_train, color = 'green') \n",
    "  \n",
    "plt.plot(X_test, LinReg.predict(X_test), color = 'blue') \n",
    "plt.plot(X_train, LinReg.predict(X_train), color = 'red') \n",
    "plt.title('Linear Regression') \n",
    "plt.xlabel('Age') \n",
    "plt.ylabel('Height') \n",
    "  \n",
    "plt.show()"
   ]
  },
  {
   "cell_type": "code",
   "execution_count": 35,
   "id": "f95aedae",
   "metadata": {},
   "outputs": [
    {
     "data": {
      "text/plain": [
       "array([[1.000e+00, 1.200e+01, 1.440e+02],\n",
       "       [1.000e+00, 5.000e+01, 2.500e+03],\n",
       "       [1.000e+00, 2.100e+01, 4.410e+02],\n",
       "       [1.000e+00, 1.300e+01, 1.690e+02],\n",
       "       [1.000e+00, 6.400e+01, 4.096e+03],\n",
       "       [1.000e+00, 5.500e+01, 3.025e+03],\n",
       "       [1.000e+00, 2.000e+01, 4.000e+02],\n",
       "       [1.000e+00, 5.100e+01, 2.601e+03],\n",
       "       [1.000e+00, 5.900e+01, 3.481e+03],\n",
       "       [1.000e+00, 6.300e+01, 3.969e+03],\n",
       "       [1.000e+00, 6.700e+01, 4.489e+03],\n",
       "       [1.000e+00, 4.200e+01, 1.764e+03],\n",
       "       [1.000e+00, 2.400e+01, 5.760e+02],\n",
       "       [1.000e+00, 7.800e+01, 6.084e+03],\n",
       "       [1.000e+00, 2.900e+01, 8.410e+02],\n",
       "       [1.000e+00, 3.900e+01, 1.521e+03],\n",
       "       [1.000e+00, 6.200e+01, 3.844e+03],\n",
       "       [1.000e+00, 4.500e+01, 2.025e+03],\n",
       "       [1.000e+00, 2.800e+01, 7.840e+02],\n",
       "       [1.000e+00, 1.000e+01, 1.000e+02],\n",
       "       [1.000e+00, 2.500e+01, 6.250e+02],\n",
       "       [1.000e+00, 1.500e+01, 2.250e+02],\n",
       "       [1.000e+00, 2.600e+01, 6.760e+02],\n",
       "       [1.000e+00, 3.000e+01, 9.000e+02],\n",
       "       [1.000e+00, 7.600e+01, 5.776e+03],\n",
       "       [1.000e+00, 1.800e+01, 3.240e+02],\n",
       "       [1.000e+00, 2.300e+01, 5.290e+02],\n",
       "       [1.000e+00, 3.500e+01, 1.225e+03],\n",
       "       [1.000e+00, 4.700e+01, 2.209e+03],\n",
       "       [1.000e+00, 2.700e+01, 7.290e+02],\n",
       "       [1.000e+00, 7.000e+01, 4.900e+03],\n",
       "       [1.000e+00, 5.600e+01, 3.136e+03],\n",
       "       [1.000e+00, 7.300e+01, 5.329e+03],\n",
       "       [1.000e+00, 4.900e+01, 2.401e+03],\n",
       "       [1.000e+00, 4.800e+01, 2.304e+03],\n",
       "       [1.000e+00, 1.100e+01, 1.210e+02],\n",
       "       [1.000e+00, 6.800e+01, 4.624e+03],\n",
       "       [1.000e+00, 2.200e+01, 4.840e+02],\n",
       "       [1.000e+00, 7.100e+01, 5.041e+03],\n",
       "       [1.000e+00, 3.400e+01, 1.156e+03],\n",
       "       [1.000e+00, 1.600e+01, 2.560e+02],\n",
       "       [1.000e+00, 3.300e+01, 1.089e+03],\n",
       "       [1.000e+00, 4.600e+01, 2.116e+03],\n",
       "       [1.000e+00, 3.100e+01, 9.610e+02],\n",
       "       [1.000e+00, 1.900e+01, 3.610e+02],\n",
       "       [1.000e+00, 7.700e+01, 5.929e+03],\n",
       "       [1.000e+00, 7.400e+01, 5.476e+03],\n",
       "       [1.000e+00, 5.700e+01, 3.249e+03],\n",
       "       [1.000e+00, 5.400e+01, 2.916e+03]])"
      ]
     },
     "execution_count": 35,
     "metadata": {},
     "output_type": "execute_result"
    }
   ],
   "source": [
    "# Add the polynomial term to the equation/model\n",
    "from sklearn.preprocessing import PolynomialFeatures \n",
    "  \n",
    "polynom = PolynomialFeatures(degree = 2) #degree=2是维度，默认是2\n",
    "X_polynom = polynom.fit_transform(X_train) \n",
    "  \n",
    "X_polynom"
   ]
  },
  {
   "cell_type": "code",
   "execution_count": 36,
   "id": "1533f718",
   "metadata": {},
   "outputs": [
    {
     "data": {
      "text/plain": [
       "(49, 3)"
      ]
     },
     "execution_count": 36,
     "metadata": {},
     "output_type": "execute_result"
    }
   ],
   "source": [
    "X_polynom.shape"
   ]
  },
  {
   "cell_type": "code",
   "execution_count": 37,
   "id": "6250155b",
   "metadata": {},
   "outputs": [
    {
     "data": {
      "text/plain": [
       "LinearRegression()"
      ]
     },
     "execution_count": 37,
     "metadata": {},
     "output_type": "execute_result"
    }
   ],
   "source": [
    "#Fit the Polynomial Regression Model \n",
    "PolyReg = LinearRegression() \n",
    "PolyReg.fit(X_polynom, y_train)"
   ]
  },
  {
   "cell_type": "code",
   "execution_count": 38,
   "id": "c4d5fffc",
   "metadata": {},
   "outputs": [
    {
     "data": {
      "image/png": "[encoded data removed]",
      "text/plain": [
       "<Figure size 640x480 with 1 Axes>"
      ]
     },
     "metadata": {},
     "output_type": "display_data"
    }
   ],
   "source": [
    "# Visualise the Polynomial Regression Results \n",
    "plt.scatter(X_train, y_train, color = 'green') \n",
    "  \n",
    "plt.plot(X_train, PolyReg.predict(polynom.fit_transform(X_train)), color = 'red') \n",
    "plt.plot(X_test, PolyReg.predict(polynom.fit_transform(X_test)), color = 'blue') \n",
    "plt.title('Polynomial Regression') \n",
    "plt.xlabel('Age') \n",
    "plt.ylabel('Height') \n",
    "  \n",
    "plt.show()"
   ]
  },
  {
   "cell_type": "code",
   "execution_count": 39,
   "id": "b4b32c0f",
   "metadata": {},
   "outputs": [
    {
     "name": "stdout",
     "output_type": "stream",
     "text": [
      "R-Square Error associated with Simple Linear Regression: 0.8727873738671587\n"
     ]
    }
   ],
   "source": [
    "#Predicted Height from test dataset w.r.t Simple Linear Regression\n",
    "y_predict_slr = LinReg.predict(X_test)\n",
    "\n",
    "#Model Evaluation using R-Square for Simple Linear Regression\n",
    "from sklearn import metrics\n",
    "r_square = metrics.r2_score(y_test, y_predict_slr)\n",
    "print('R-Square Error associated with Simple Linear Regression:', r_square)"
   ]
  },
  {
   "cell_type": "code",
   "execution_count": 40,
   "id": "0d53024f",
   "metadata": {},
   "outputs": [
    {
     "name": "stdout",
     "output_type": "stream",
     "text": [
      "R-Square Error associated with Polynomial Regression is: 0.9892511710983519\n"
     ]
    }
   ],
   "source": [
    "#Predicted Height from test dataset w.r.t Polynomial Regression\n",
    "y_predict_pr = PolyReg.predict(polynom.fit_transform(X_test))\n",
    "\n",
    "#Model Evaluation using R-Square for Polynomial Regression\n",
    "#from sklearn import metrics\n",
    "r_square = metrics.r2_score(y_test, y_predict_pr)\n",
    "print('R-Square Error associated with Polynomial Regression is:', r_square)"
   ]
  },
  {
   "cell_type": "code",
   "execution_count": 41,
   "id": "1e1f20ee",
   "metadata": {},
   "outputs": [
    {
     "data": {
      "text/plain": [
       "array([150.14189273])"
      ]
     },
     "execution_count": 41,
     "metadata": {},
     "output_type": "execute_result"
    }
   ],
   "source": [
    "# Predicting Height based on Age using Linear Regression \n",
    "LinReg.predict([[33]])"
   ]
  },
  {
   "cell_type": "code",
   "execution_count": 42,
   "id": "27b3cd01",
   "metadata": {},
   "outputs": [
    {
     "data": {
      "text/plain": [
       "array([144.92592448])"
      ]
     },
     "execution_count": 42,
     "metadata": {},
     "output_type": "execute_result"
    }
   ],
   "source": [
    "# Predicting Height based on Age using Polynomial Regression \n",
    "PolyReg.predict(polynom.fit_transform([[33]]))"
   ]
  },
  {
   "cell_type": "markdown",
   "id": "4f748227",
   "metadata": {},
   "source": [
    "## 过拟合\n",
    "#过拟合：具体表现就是最终模型在训练集上效果好；在测试集上效果差。模型泛化能力弱。\n",
    "#具体表现就是最终模型在训练集上效果好；在测试集上效果差。模型泛化能力弱。\n",
    "#原因\n",
    "#训练数据中噪音干扰过大，使得学习器认为部分噪音是特征从而扰乱学习规则。\n",
    "#建模样本选取有误，例如训练数据太少，抽样方法错误，样本label错误等，导致样本不能代表整体。\n",
    "#模型不合理，或假设成立的条件与实际不符。\n",
    "#特征维度/参数太多，导致模型复杂度太高。"
   ]
  },
  {
   "cell_type": "markdown",
   "id": "73b473e6",
   "metadata": {},
   "source": [
    "## 2.1 欠拟合的定义\n",
    "欠拟合是指对训练样本的一般性质尚未学好。在训练集及测试集上的表现都不好。\n",
    "\n",
    "2.2 欠拟合的原因\n",
    "1）模型复杂度过低\n",
    "2）特征量过少"
   ]
  },
  {
   "cell_type": "code",
   "execution_count": null,
   "id": "6d15de0f",
   "metadata": {},
   "outputs": [],
   "source": []
  }
 ],
 "metadata": {
  "kernelspec": {
   "display_name": "Python 3 (ipykernel)",
   "language": "python",
   "name": "python3"
  },
  "language_info": {
   "codemirror_mode": {
    "name": "ipython",
    "version": 3
   },
   "file_extension": ".py",
   "mimetype": "text/x-python",
   "name": "python",
   "nbconvert_exporter": "python",
   "pygments_lexer": "ipython3",
   "version": "3.9.13"
  }
 },
 "nbformat": 4,
 "nbformat_minor": 5
}
